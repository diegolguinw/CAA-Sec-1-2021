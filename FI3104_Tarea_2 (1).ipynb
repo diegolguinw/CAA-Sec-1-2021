{
  "nbformat": 4,
  "nbformat_minor": 0,
  "metadata": {
    "colab": {
      "name": "FI3104 Tarea 2.ipynb",
      "provenance": [],
      "collapsed_sections": []
    },
    "kernelspec": {
      "name": "python3",
      "display_name": "Python 3"
    },
    "language_info": {
      "name": "python"
    }
  },
  "cells": [
    {
      "cell_type": "markdown",
      "metadata": {
        "id": "ZaksQaZ8ke-g"
      },
      "source": [
        "# ***FI3104: Métodos numéricos para ciencias e ingeniería***\n",
        "## **Tarea 2**\n",
        "### Diego Olguín Wende\n",
        "#### Fecha de entrega: 7 de septiembre de 2021"
      ]
    },
    {
      "cell_type": "code",
      "metadata": {
        "id": "jSsRCOo0l1lY"
      },
      "source": [
        "# Importamos librerías\n",
        "import numpy as np\n",
        "import matplotlib.pyplot as plt"
      ],
      "execution_count": null,
      "outputs": []
    },
    {
      "cell_type": "markdown",
      "metadata": {
        "id": "h92sZJRzEywl"
      },
      "source": [
        "### Problema 1 parte a\n"
      ]
    },
    {
      "cell_type": "code",
      "metadata": {
        "id": "4Z9HsQrlkWAh"
      },
      "source": [
        "# Función que simula la función pedida\n",
        "def f_1(x):\n",
        "    return x**(2/3)/(np.e**x-np.e**(-x))"
      ],
      "execution_count": null,
      "outputs": []
    },
    {
      "cell_type": "code",
      "metadata": {
        "id": "a7ryqYX-oHky"
      },
      "source": [
        "# Función que integra con método del trapecio\n",
        "def int_trap(a,b,h,fun):\n",
        "    'Función que recibe el extremo izquierdo a y el extremos derecho de un \\\n",
        "    intervalo cerrado [a,b], un paso h, la función a integrar fun y devuelve\\\n",
        "    el resultado de la integral aproximada por trapecios'\n",
        "    N = int((b-a)/h)\n",
        "    X = np.linspace(a,b,num=N)\n",
        "    integ = 0\n",
        "    integ += (h/2)*(fun(X[0])+fun(X[N-1]))\n",
        "    for k in range(1,N-1):\n",
        "        integ += h*fun(X[k])\n",
        "    return integ"
      ],
      "execution_count": null,
      "outputs": []
    },
    {
      "cell_type": "code",
      "metadata": {
        "colab": {
          "base_uri": "https://localhost:8080/",
          "height": 406
        },
        "id": "A3VkkxCxl09C",
        "outputId": "f435abb3-9c0b-4223-af07-5252faa75a36"
      },
      "source": [
        "# Se grafica desde un valor razonable cercano a 0, hasta 40\n",
        "# Para ver que para valores razonables x la función es cercana a 0\n",
        "# Por lo aporta poco a la integral desde un cierto x\n",
        "X = np.linspace(0.01,40,num=100)\n",
        "fig = plt.figure(figsize=(8,6))\n",
        "plt.plot(X,f_1(X))\n",
        "plt.xlabel(\"x\")\n",
        "plt.ylabel(\"f(x)\")\n",
        "plt.title(\"$f(x)$\")\n",
        "plt.show()"
      ],
      "execution_count": null,
      "outputs": [
        {
          "output_type": "display_data",
          "data": {
            "image/png": "[encoded data removed]",
            "text/plain": [
              "<Figure size 576x432 with 1 Axes>"
            ]
          },
          "metadata": {
            "needs_background": "light"
          }
        }
      ]
    },
    {
      "cell_type": "code",
      "metadata": {
        "colab": {
          "base_uri": "https://localhost:8080/",
          "height": 414
        },
        "id": "hScFpMPondhk",
        "outputId": "67ff1e4c-1fc2-4b61-e44f-ce45752db1cb"
      },
      "source": [
        "# Se grafica el valor de la integral de función para distintos valores \n",
        "# de límites superiores\n",
        "\n",
        "# Arreglo de valores de límites superiores\n",
        "B = np.linspace(5,25,num=25)\n",
        "\n",
        "# Arreglo para almacenar los valores de la integral\n",
        "I = np.zeros(len(B))\n",
        "\n",
        "# Valor razonable cercano a 0\n",
        "delta = 0.001\n",
        "\n",
        "# Paso de integración\n",
        "h = 0.01\n",
        "\n",
        "# Se calculan las integrales\n",
        "for i in range(len(B)):\n",
        "    I[i] = int_trap(delta,B[i],h,f_1)\n",
        "\n",
        "# Gráfico    \n",
        "fig = plt.figure(figsize=(8,6))\n",
        "plt.plot(B,I)\n",
        "plt.xlabel(\"x\")\n",
        "plt.ylabel(\"integral de f(x)\")\n",
        "plt.title(\"$\\int_{0}^{x} f(t)dt$\")\n",
        "plt.show()"
      ],
      "execution_count": null,
      "outputs": [
        {
          "output_type": "display_data",
          "data": {
            "image/png": "[encoded data removed]",
            "text/plain": [
              "<Figure size 576x432 with 1 Axes>"
            ]
          },
          "metadata": {
            "needs_background": "light"
          }
        }
      ]
    },
    {
      "cell_type": "markdown",
      "metadata": {
        "id": "QzV1rBMbK9h2"
      },
      "source": [
        "A continuación se muestra que la integral estabiliza su valor para cierto valor del límite superior $b$. Para ello nos fijaremos en el tercer décimal de la proporción entre términos sucesivos, ya que este decimal es el primero significativo."
      ]
    },
    {
      "cell_type": "code",
      "metadata": {
        "colab": {
          "base_uri": "https://localhost:8080/"
        },
        "id": "wIFxgTCxqizz",
        "outputId": "46b4e14c-22a6-4da9-d166-dbc06f56a169"
      },
      "source": [
        "# Estudiamos las diferencias entre integraciones sucesivas\n",
        "print(\"Límite superior  Valor integral  Proporción relativa con el anterior\")\n",
        "for i in range(1,len(I)):\n",
        "    D = (abs(I[i]/I[i-1])-1)*10**3\n",
        "    print(\"    \"+str(round(B[i],2))+\"              \"+str(round(I[i],3))+\"                \"+str(round(D,6)))"
      ],
      "execution_count": null,
      "outputs": [
        {
          "output_type": "stream",
          "text": [
            "Límite superior  Valor integral  Proporción relativa con el anterior\n",
            "    5.83              1.3                10.731157\n",
            "    6.67              1.305                4.051166\n",
            "    7.5              1.307                1.83526\n",
            "    8.33              1.31                1.991565\n",
            "    9.17              1.31                0.210308\n",
            "    10.0              1.31                0.012524\n",
            "    10.83              1.311                0.849785\n",
            "    11.67              1.311                -0.160445\n",
            "    12.5              1.311                -0.156548\n",
            "    13.33              1.312                0.599869\n",
            "    14.17              1.311                -0.175578\n",
            "    15.0              1.311                -0.157841\n",
            "    15.83              1.312                0.485171\n",
            "    16.67              1.312                -0.159494\n",
            "    17.5              1.311                -0.144493\n",
            "    18.33              1.312                0.410135\n",
            "    19.17              1.312                -0.143544\n",
            "    20.0              1.312                -0.131616\n",
            "    20.83              1.312                0.35542\n",
            "    21.67              1.312                -0.130079\n",
            "    22.5              1.312                -0.12046\n",
            "    23.33              1.312                0.313556\n",
            "    24.17              1.312                -0.118787\n",
            "    25.0              1.312                -0.110881\n"
          ],
          "name": "stdout"
        }
      ]
    },
    {
      "cell_type": "markdown",
      "metadata": {
        "id": "wIqK2MBTKZiJ"
      },
      "source": [
        "Con esto último vemos que desde $b=20$ se puede ver una especie de estabilidad en el valor de la integral."
      ]
    },
    {
      "cell_type": "markdown",
      "metadata": {
        "id": "CQynPFuQLe3Y"
      },
      "source": [
        "### Problema 1 parte b\n",
        "\n",
        "Veremos que las diferencias entre integrales calculadas con los distintos $h$ dados son del orden de $10\\%$."
      ]
    },
    {
      "cell_type": "code",
      "metadata": {
        "colab": {
          "base_uri": "https://localhost:8080/"
        },
        "id": "DTqE__O2sY38",
        "outputId": "5bc75958-ad3e-42b1-cfc1-484bff3123ba"
      },
      "source": [
        "b = 20\n",
        "H = [0.1,0.01,0.001]\n",
        "print(\" h         Integral              Error \")\n",
        "for i in range(len(H)):\n",
        "    if i==0:\n",
        "        print(str(H[i])+\"  \"+str(int_trap(0.001,b,H[i],f_1))+\"            -       \")\n",
        "    else:\n",
        "        er = int_trap(H[0],b,H[0],f_1)/int_trap(H[i],b,H[i],f_1)\n",
        "        print(str(H[i])+\"  \"+str(int_trap(H[i],b,H[i],f_1))+\"  \"+str(1-er))"
      ],
      "execution_count": null,
      "outputs": [
        {
          "output_type": "stream",
          "text": [
            " h         Integral              Error \n",
            "0.1  1.4443436061540984            -       \n",
            "0.01  1.2777111723196435  0.10541976654994645\n",
            "0.001  1.305750988878546  0.12463006457522541\n"
          ],
          "name": "stdout"
        }
      ]
    },
    {
      "cell_type": "markdown",
      "metadata": {
        "id": "0ja9XvPQyi8M"
      },
      "source": [
        "### Problema 1 parte c\n",
        "\n",
        "La integral es:\n",
        "\n",
        "\\begin{equation*}\n",
        "    \\int_{0}^{\\infty} \\frac{x^{2/3}}{e^x-e^{-x}}dx\n",
        "\\end{equation*}\n",
        "\n",
        "Aproximando por Taylor lineal el denominado:\n",
        "\n",
        "\\begin{equation*}\n",
        "    e^x-e^{-x} = 2x + o(x^2)\n",
        "\\end{equation*}\n",
        "\n",
        "Donde:\n",
        "\n",
        "\\begin{equation*}\n",
        "    \\lim_{x \\rightarrow 0} \\frac{x^{2/3}}{e^x-e^{-x}} = x^{-1/3}\n",
        "\\end{equation*}\n",
        "\n",
        "Entonces haciendo un cambio de variable $y=x^{2/3}$, $dy = \\frac{2}{3}x^{-1/3}dx$ con lo que $x = y^{3/2}$, $dx = \\frac{3}{2}y^{1/2}dy$, $x \\rightarrow 0 \\Rightarrow y = 0$, $x \\rightarrow \\infty \\Rightarrow y = \\infty$. Luego, la integral queda:\n",
        "\n",
        "\\begin{equation*}\n",
        "    \\int_{0}^{\\infty} \\frac{3}{2} \\frac{y^{3/2}}{(e^{\\: y^{3/2}}-e^{\\: -y^{3/2}})} dy\n",
        "\\end{equation*}\n",
        "\n",
        "Donde:\n",
        "\n",
        "\\begin{equation*}\n",
        "    \\lim_{y \\rightarrow 0} \\frac{3}{2} \\frac{y^{3/2}}{(e^{\\: y^{3/2}}-e^{\\: -y^{3/2}})} = \\frac{3}{2} \\lim_{y \\rightarrow 0} \\frac{\\frac{3}{2} y^{1/2}}{(\\frac{3}{2}y^{1/2}e^{\\: y^{3/2}}+\\frac{3}{2}y^{1/2}e^{\\: -y^{3/2}})} = \\frac{3}{2} \\lim_{y \\rightarrow 0} \\frac{1}{(e^{\\: y^{3/2}}+e^{\\: -y^{3/2}})} = \\frac{3}{2} \\cdot \\frac{1}{2} = \\frac{3}{4}\n",
        "\\end{equation*}\n",
        "\n",
        "Y:\n",
        "\n",
        "\\begin{equation*}\n",
        "    \\lim_{y \\rightarrow \\infty} \\frac{y^{3/2}}{(e^{\\: y^{3/2}}-e^{\\: -y^{3/2}})} = 0\n",
        "\\end{equation*}\n",
        "\n",
        "Además, el integrando no diverge para ningún valor del $(0,\\infty)$, ya que la función es continua en cualquier $x \\in (0,\\infty)$ por álgebra y composición de funciones continuas en el intervalo.\n",
        "\n",
        "*Nota: A efectos numéricos, esta función sigue estando indefinida en 0, por lo que seguiremos evaluando esta en un valor razonablemente cercano a 0.*"
      ]
    },
    {
      "cell_type": "code",
      "metadata": {
        "id": "4TE6jSX-78fQ"
      },
      "source": [
        "# Función que simula lo resultante al hacer el cambio de variable\n",
        "def f_2(y):\n",
        "    a = 3*y**(3/2)\n",
        "    b = 2*np.exp(y**(3/2))-2*np.exp(-y**(3/2))\n",
        "    return a/b"
      ],
      "execution_count": null,
      "outputs": []
    },
    {
      "cell_type": "code",
      "metadata": {
        "colab": {
          "base_uri": "https://localhost:8080/",
          "height": 406
        },
        "id": "oGywIX-N8L1D",
        "outputId": "d0b351c5-1ed1-4439-a4df-045c67af13cf"
      },
      "source": [
        "# Gráfico de la función nueva\n",
        "Y = np.linspace(0.01,25,num=100)\n",
        "fig = plt.figure(figsize=(8,6))\n",
        "plt.plot(Y,f_2(Y))\n",
        "plt.xlabel(\"y\")\n",
        "plt.ylabel(\"f(y)\")\n",
        "plt.title(\"$f(y)$\")\n",
        "plt.show()"
      ],
      "execution_count": null,
      "outputs": [
        {
          "output_type": "display_data",
          "data": {
            "image/png": "[encoded data removed]",
            "text/plain": [
              "<Figure size 576x432 with 1 Axes>"
            ]
          },
          "metadata": {
            "needs_background": "light"
          }
        }
      ]
    },
    {
      "cell_type": "code",
      "metadata": {
        "colab": {
          "base_uri": "https://localhost:8080/",
          "height": 414
        },
        "id": "n_QFrSLoC7lN",
        "outputId": "feadc3ed-54b0-406b-896a-5c1f14baa5e0"
      },
      "source": [
        "# Se grafica el valor de la integral de función para distintos valores \n",
        "# de límites superiores\n",
        "\n",
        "# Arreglo de valores de límites superiores\n",
        "B = np.linspace(1,25,num=25)\n",
        "\n",
        "# Arreglo para almacenar los valores de la integral\n",
        "I = np.zeros(len(B))\n",
        "\n",
        "# Paso de integración\n",
        "h = 0.01\n",
        "\n",
        "# Se calculan las integrales\n",
        "for i in range(len(B)):\n",
        "    I[i] = int_trap(h,B[i],h,f_2)\n",
        "\n",
        "# Gráfico    \n",
        "fig = plt.figure(figsize=(8,6))\n",
        "plt.plot(B,I)\n",
        "plt.xlabel(\"y\")\n",
        "plt.ylabel(\"integral de f(y)\")\n",
        "plt.title(\"$\\int_{0}^{x} f(y)dt$\")\n",
        "plt.show()"
      ],
      "execution_count": null,
      "outputs": [
        {
          "output_type": "display_data",
          "data": {
            "image/png": "[encoded data removed]",
            "text/plain": [
              "<Figure size 576x432 with 1 Axes>"
            ]
          },
          "metadata": {
            "needs_background": "light"
          }
        }
      ]
    },
    {
      "cell_type": "code",
      "metadata": {
        "colab": {
          "base_uri": "https://localhost:8080/"
        },
        "id": "MdUIsPWGNjpf",
        "outputId": "5d0204e7-80ab-48df-ca83-2b168639c74a"
      },
      "source": [
        "print(\"Límite superior  Integral     Error \")\n",
        "for i in range(1,len(B)):\n",
        "    print(\"    \"+str(B[i])+\"           \"+str(round(I[i],4))+\"      \"+str(round(I[i]-I[i-1],4)))\n"
      ],
      "execution_count": null,
      "outputs": [
        {
          "output_type": "stream",
          "text": [
            "Límite superior  Integral     Error \n",
            "    2.0           1.156      0.45\n",
            "    3.0           1.2827      0.1268\n",
            "    4.0           1.301      0.0182\n",
            "    5.0           1.303      0.002\n",
            "    6.0           1.3035      0.0005\n",
            "    7.0           1.3038      0.0003\n",
            "    8.0           1.304      0.0002\n",
            "    9.0           1.3042      0.0002\n",
            "    10.0           1.3044      0.0001\n",
            "    11.0           1.3045      0.0001\n",
            "    12.0           1.3046      0.0001\n",
            "    13.0           1.3047      0.0001\n",
            "    14.0           1.3047      0.0001\n",
            "    15.0           1.3048      0.0001\n",
            "    16.0           1.3049      0.0001\n",
            "    17.0           1.3041      -0.0007\n",
            "    18.0           1.3042      0.0001\n",
            "    19.0           1.3043      0.0001\n",
            "    20.0           1.3044      0.0001\n",
            "    21.0           1.3051      0.0007\n",
            "    22.0           1.3051      0.0\n",
            "    23.0           1.3051      0.0\n",
            "    24.0           1.3051      0.0\n",
            "    25.0           1.3052      0.0\n"
          ],
          "name": "stdout"
        }
      ]
    },
    {
      "cell_type": "markdown",
      "metadata": {
        "id": "1G2Rj5gxRc38"
      },
      "source": [
        "Vemos que desde un límite superior $b=4$, ya se alcanza un valor de la integral $I=1.3$ aproximadamente. Dado que desde $b=10$ se tiene una diferencia menor a $0.0001$, se tomará este valor de límite superior como uno razonable, pero depende de cuanta tolerancia se pida cual será el valor razonable para $b$.\n",
        "\n",
        "Además, se comprueba que la diferencia entre lo calculado con $h=0.01$ y $h=0.001$ es de menos del $1\\%$."
      ]
    },
    {
      "cell_type": "code",
      "metadata": {
        "colab": {
          "base_uri": "https://localhost:8080/"
        },
        "id": "CxotHwOTG-Xz",
        "outputId": "0dec7a7b-a3ac-4560-cc49-d4918bb568b9"
      },
      "source": [
        "# Verificamos que el error sea menor a 1 porciento o 0.01\n",
        "print(int_trap(0.001,10,0.01,f_2)/int_trap(0.01,10,0.01,f_2)-1)"
      ],
      "execution_count": null,
      "outputs": [
        {
          "output_type": "stream",
          "text": [
            "0.004264964081482692\n"
          ],
          "name": "stdout"
        }
      ]
    },
    {
      "cell_type": "markdown",
      "metadata": {
        "id": "xETgJstDK_yx"
      },
      "source": [
        "### Problema 2 parte a)\n",
        "\n",
        "Se replica el algoritmo visto en clases (videos), con algunos comentarios un poco más descriptivo. Al final se imprime el valor de $x$, que se ve es el mismo pedido a demostrar."
      ]
    },
    {
      "cell_type": "code",
      "metadata": {
        "colab": {
          "base_uri": "https://localhost:8080/"
        },
        "id": "3ggyuOSHMLIk",
        "outputId": "5945e121-e6af-41f6-ccd5-27615fe6315e"
      },
      "source": [
        "# Matriz que representa el sistema\n",
        "A = np.array([[1.,3.,2.,3.,2.,-2.],\n",
        "             [1.,3.,5.,1.,0.,1.],\n",
        "             [2.,2.,1.,3.,1.,3.],\n",
        "             [3.,1.,3.,5.,2.,-1.],\n",
        "             [2.,0.,1.,2.,1.,2.],\n",
        "             [-2.,1.,3.,-1.,2.,5.]])\n",
        "\n",
        "# Vector de lado derecho\n",
        "b = np.array([26.,21.,38.,40.,26.,35.])\n",
        "\n",
        "# Largo del problema, arista de la matriz\n",
        "N = len(A[0])\n",
        "\n",
        "# Matriz identidad\n",
        "I = np.eye(N, dtype=float)\n",
        "\n",
        "# Arreglos auxiliares para permutar filas de A e I, respectivamente\n",
        "fa = np.empty(N,dtype=float)\n",
        "fi = np.empty(N,dtype=float)\n",
        "\n",
        "# Iteramos sobre las columnas\n",
        "for i in range(N):\n",
        "\n",
        "    # == Pivoteo ==\n",
        "\n",
        "    # Postulamos como máximo al pivote actual\n",
        "    pind = i\n",
        "    # Iteramos sobre las filas inferiores a la actual\n",
        "    for j in range(N-i):\n",
        "        # Si encontramos una que sea mayor, la guardamos como la posición\n",
        "        # de máximo pivote\n",
        "        if A[j+i,i]>A[pind,i]:\n",
        "            pind = j+i\n",
        "    \n",
        "    # Permutación de valores en b\n",
        "    fb = b[pind]\n",
        "    b[pind] = b[i]\n",
        "    b[i] = fb\n",
        "    \n",
        "    # Entramos en las respectivas filas de A para permutar valores\n",
        "    for k in range(N):\n",
        "        # Permutación en A\n",
        "        fa[k] = A[pind,k]\n",
        "        A[pind,k] = A[i,k]\n",
        "        A[i,k] = fa[k]\n",
        "\n",
        "    # == Fin pivoteo ==\n",
        "\n",
        "    # == Gauss-Jordan ==\n",
        "    p1 = A[i,i]\n",
        "\n",
        "    # Dividimos por el pivote actual\n",
        "    b[i] = b[i]/p1\n",
        "    A[i] = A[i]/p1\n",
        "\n",
        "    # Ahora iteramos sobre las filas para multiplicar por los respectivos valores\n",
        "    for j in range(N):\n",
        "        # Ignoramos el pivote actual\n",
        "        if j!=i:\n",
        "            p2 = A[j,i]\n",
        "            # Se hace la operación en b\n",
        "            b[j] = b[j] - p2*b[i]\n",
        "            # Se hace la operación sobre A \n",
        "            for k in range(N): \n",
        "                A[j,k] += - p2*A[i,k]\n",
        "    # == Fin Gauss-Jordan ==\n",
        "    # Fin iteración i\n",
        "\n",
        "print(\"x = \")\n",
        "print(b)"
      ],
      "execution_count": null,
      "outputs": [
        {
          "output_type": "stream",
          "text": [
            "x = \n",
            "[-1.81843887e+01  4.38877761e+01  1.14748568e+02  4.20039044e+01\n",
            "  2.05806845e+00 -8.41102426e-03]\n"
          ],
          "name": "stdout"
        }
      ]
    },
    {
      "cell_type": "markdown",
      "metadata": {
        "id": "8Ha7t8vVQ3Y-"
      },
      "source": [
        "### Problema 2 parte b)\n",
        "\n",
        "Se hace en esencia lo mismo en a), pero ahora se hacen las permutaciones en la matriz identidad que guarda todas las operaciones hechas. Al final esta matriz se convertirá en la inversa de $A$, se imprime su valor al final para ver que era lo pedido. Además, en otra celda se comprueba que $A^{-1}\\cdot b = x$."
      ]
    },
    {
      "cell_type": "code",
      "metadata": {
        "colab": {
          "base_uri": "https://localhost:8080/"
        },
        "id": "SzgI0INgxPZ6",
        "outputId": "d898601b-576e-40e5-81db-34a3224903d2"
      },
      "source": [
        "# Matriz que representa el sistema\n",
        "A = np.array([[1.,3.,2.,3.,2.,-2.],\n",
        "             [1.,3.,5.,1.,0.,1.],\n",
        "             [2.,2.,1.,3.,1.,3.],\n",
        "             [3.,1.,3.,5.,2.,-1.],\n",
        "             [2.,0.,1.,2.,1.,2.],\n",
        "             [-2.,1.,3.,-1.,2.,5.]])\n",
        "\n",
        "# Vector de lado derecho\n",
        "b = np.array([26.,21.,38.,40.,26.,35.])\n",
        "\n",
        "# Largo del problema, arista de la matriz\n",
        "N = len(A[0])\n",
        "\n",
        "# Matriz identidad\n",
        "I = np.eye(N, dtype=float)\n",
        "\n",
        "# Arreglos auxiliares para permutar filas de A e I, respectivamente\n",
        "fa = np.empty(N,dtype=float)\n",
        "fi = np.empty(N,dtype=float)\n",
        "\n",
        "# Iteramos sobre las columnas\n",
        "for i in range(N):\n",
        "\n",
        "    # == Pivoteo ==\n",
        "\n",
        "    # Postulamos como máximo al pivote actual\n",
        "    pind = i\n",
        "    # Iteramos sobre las filas inferiores a la actual\n",
        "    for j in range(N-i):\n",
        "        # Si encontramos una que sea mayor, la guardamos como la posición\n",
        "        # de máximo pivote\n",
        "        if A[j+i,i]>A[pind,i]:\n",
        "            pind = j+i\n",
        "    \n",
        "    # Permutación de valores en b\n",
        "    fb = b[pind]\n",
        "    b[pind] = b[i]\n",
        "    b[i] = fb\n",
        "    \n",
        "    # Entramos en las respectivas filas de A e I para permutar valores\n",
        "    for k in range(N):\n",
        "        # Permutación en A\n",
        "        fa[k] = A[pind,k]\n",
        "        A[pind,k] = A[i,k]\n",
        "        A[i,k] = fa[k]\n",
        "\n",
        "        # Permutación en I\n",
        "        fi[k] = I[pind,k]\n",
        "        I[pind,k] = I[i,k]\n",
        "        I[i,k] = fi[k]\n",
        "    # == Fin pivoteo ==\n",
        "\n",
        "    # == Gauss-Jordan ==\n",
        "    p1 = A[i,i]\n",
        "\n",
        "    # Dividimos por el pivote actual\n",
        "    b[i] = b[i]/p1\n",
        "    I[i] = I[i]/p1\n",
        "    A[i] = A[i]/p1\n",
        "\n",
        "    # Ahora iteramos sobre las filas para multiplicar por los respectivos valores\n",
        "    for j in range(N):\n",
        "        # Ignoramos el pivote actual\n",
        "        if j!=i:\n",
        "            p2 = A[j,i]\n",
        "            # Se hace la operación en b\n",
        "            b[j] = b[j] - p2*b[i]\n",
        "            # Se hace la operación sobre A e I, respectivamente\n",
        "            for k in range(N):\n",
        "                I[j,k] += - p2*I[i,k] \n",
        "                A[j,k] += - p2*A[i,k]\n",
        "    # == Fin Gauss-Jordan ==\n",
        "    # Fin iteración i\n",
        "\n",
        "# Se imprime el valor de A^-1\n",
        "print(\"A^-1 =\")\n",
        "print(I)"
      ],
      "execution_count": null,
      "outputs": [
        {
          "output_type": "stream",
          "text": [
            "A^-1 =\n",
            "[[ 0.38095238  0.15873016 -0.41269841 -0.55555556  1.23809524 -0.23809524]\n",
            " [ 0.29365079  0.08068783  0.14021164 -0.32407407  0.07936508 -0.07936508]\n",
            " [-0.13492063  0.1521164  -0.14550265  0.17592593 -0.06349206  0.06349206]\n",
            " [-0.45238095 -0.1468254   0.53174603  0.63888889 -1.0952381   0.0952381 ]\n",
            " [ 0.54761905 -0.1468254  -0.46825397 -0.36111111  0.9047619   0.0952381 ]\n",
            " [-0.13492063 -0.01455026  0.18783069  0.00925926 -0.06349206  0.06349206]]\n"
          ],
          "name": "stdout"
        }
      ]
    },
    {
      "cell_type": "code",
      "metadata": {
        "colab": {
          "base_uri": "https://localhost:8080/"
        },
        "id": "-JjmB_wYMmyC",
        "outputId": "6fee82c9-caa8-432c-d419-c3b5c7ffe9de"
      },
      "source": [
        "# Se comprueba la igualdad pedida\n",
        "print(\"A^-1*b = \")\n",
        "print(np.dot(I,np.array([26.,21.,38.,40.,26.,35.])))\n",
        "print(\"x = \")\n",
        "print(b)"
      ],
      "execution_count": null,
      "outputs": [
        {
          "output_type": "stream",
          "text": [
            "A^-1*b = \n",
            "[-0.80952381  0.98015873  1.76587302  5.77380952  5.77380952  4.26587302]\n",
            "x = \n",
            "[-0.80952381  0.98015873  1.76587302  5.77380952  5.77380952  4.26587302]\n"
          ],
          "name": "stdout"
        }
      ]
    }
  ]
}